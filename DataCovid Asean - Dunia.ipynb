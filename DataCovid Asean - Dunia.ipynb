{
  "nbformat": 4,
  "nbformat_minor": 0,
  "metadata": {
    "colab": {
      "name": "DataCovid.ipynb",
      "provenance": [],
      "collapsed_sections": []
    },
    "kernelspec": {
      "name": "python3",
      "display_name": "Python 3"
    }
  },
  "cells": [
    {
      "cell_type": "markdown",
      "metadata": {
        "id": "ZVwIzj2HQICt"
      },
      "source": [
        "# **Data Science Project: Analisis Data COVID19 di Dunia & ASEAN**"
      ]
    },
    {
      "cell_type": "markdown",
      "metadata": {
        "id": "M5pLiHNbM-c3"
      },
      "source": [
        "Import Library"
      ]
    },
    {
      "cell_type": "code",
      "metadata": {
        "id": "sDlxjIKBMjev"
      },
      "source": [
        "import json\r\n",
        "import numpy as np\r\n",
        "import pandas as pd\r\n",
        "import requests"
      ],
      "execution_count": 1,
      "outputs": []
    },
    {
      "cell_type": "markdown",
      "metadata": {
        "id": "X7HSAGpSNCAh"
      },
      "source": [
        "Membuat Fungsi get API"
      ]
    },
    {
      "cell_type": "code",
      "metadata": {
        "id": "F96bK_AoMzu9"
      },
      "source": [
        "def get_json(api_url):\r\n",
        "\tresponse = requests.get(api_url)\r\n",
        "\tif response.status_code == 200:\r\n",
        "\t\treturn json.loads(response.content.decode('utf-8'))\r\n",
        "\telse:\r\n",
        "\t\treturn none"
      ],
      "execution_count": 4,
      "outputs": []
    },
    {
      "cell_type": "markdown",
      "metadata": {
        "id": "OrtJ8gMDNEvz"
      },
      "source": [
        "Memanggil API Covid19"
      ]
    },
    {
      "cell_type": "code",
      "metadata": {
        "colab": {
          "base_uri": "https://localhost:8080/"
        },
        "id": "YCaLB65HM9gY",
        "outputId": "b719ec3d-59f3-4ea9-bc1e-1135ae6bbac6"
      },
      "source": [
        "record_date = '2020-08-17'\r\n",
        "covid_url = 'https://covid19-api.org/api/status?date='+record_date\r\n",
        "df_covid_worldwide = pd.io.json.json_normalize(get_json(covid_url))\r\n",
        "\r\n",
        "print(df_covid_worldwide.head())"
      ],
      "execution_count": 5,
      "outputs": [
        {
          "output_type": "stream",
          "text": [
            "  country          last_update    cases  deaths  recovered\n",
            "0      US  2020-08-16T23:27:50  5401167  170019    1833067\n",
            "1      BR  2020-08-16T23:27:50  3340197  107852    2655017\n",
            "2      IN  2020-08-16T23:27:50  2589682   49980    1862258\n",
            "3      RU  2020-08-16T23:27:50   920719   15653     731444\n",
            "4      ZA  2020-08-16T23:27:50   587345   11839     472377\n"
          ],
          "name": "stdout"
        },
        {
          "output_type": "stream",
          "text": [
            "/usr/local/lib/python3.6/dist-packages/ipykernel_launcher.py:3: FutureWarning: pandas.io.json.json_normalize is deprecated, use pandas.json_normalize instead\n",
            "  This is separate from the ipykernel package so we can avoid doing imports until\n"
          ],
          "name": "stderr"
        }
      ]
    },
    {
      "cell_type": "markdown",
      "metadata": {
        "id": "1eisiSjWNQ7C"
      },
      "source": [
        "Mengubah Format date"
      ]
    },
    {
      "cell_type": "code",
      "metadata": {
        "id": "SLnHBQkKNMi1"
      },
      "source": [
        "df_covid_worldwide['last_update'] = pd.to_datetime(df_covid_worldwide['last_update'], format='%Y-%m-%d %H:%M:%S')\r\n",
        "df_covid_worldwide['last_update'] = df_covid_worldwide['last_update'].apply(lambda x: x.date())"
      ],
      "execution_count": 6,
      "outputs": []
    },
    {
      "cell_type": "markdown",
      "metadata": {
        "id": "aDOlV8giNZa8"
      },
      "source": [
        "Mengambil Data Countries"
      ]
    },
    {
      "cell_type": "code",
      "metadata": {
        "colab": {
          "base_uri": "https://localhost:8080/"
        },
        "id": "TVHtC0xANYmu",
        "outputId": "78678e69-4173-4da8-f1a2-6b997886bb02"
      },
      "source": [
        "countries_url = 'https://covid19-api.org/api/countries'\r\n",
        "df_countries = pd.io.json.json_normalize(get_json(countries_url))\r\n",
        "df_countries = df_countries.rename(columns={'alpha2': 'country'})[['name','country']]\r\n",
        "\r\n",
        "print(df_countries.head())"
      ],
      "execution_count": 7,
      "outputs": [
        {
          "output_type": "stream",
          "text": [
            "          name country\n",
            "0  Afghanistan      AF\n",
            "1      Albania      AL\n",
            "2      Algeria      DZ\n",
            "3      Andorra      AD\n",
            "4       Angola      AO\n"
          ],
          "name": "stdout"
        },
        {
          "output_type": "stream",
          "text": [
            "/usr/local/lib/python3.6/dist-packages/ipykernel_launcher.py:2: FutureWarning: pandas.io.json.json_normalize is deprecated, use pandas.json_normalize instead\n",
            "  \n"
          ],
          "name": "stderr"
        }
      ]
    },
    {
      "cell_type": "markdown",
      "metadata": {
        "id": "CjKf-asQNnK0"
      },
      "source": [
        "Merge Covid19 Data dan Countries"
      ]
    },
    {
      "cell_type": "code",
      "metadata": {
        "colab": {
          "base_uri": "https://localhost:8080/"
        },
        "id": "0J3hYeUpNmnI",
        "outputId": "fedb639e-416e-44c6-e0e2-7cbaf5726814"
      },
      "source": [
        "df_covid_denormalized = pd.merge(df_covid_worldwide , df_countries, on='country')\r\n",
        "\r\n",
        "print(df_covid_denormalized.head())"
      ],
      "execution_count": 8,
      "outputs": [
        {
          "output_type": "stream",
          "text": [
            "  country last_update    cases  deaths  recovered                      name\n",
            "0      US  2020-08-16  5401167  170019    1833067  United States of America\n",
            "1      BR  2020-08-16  3340197  107852    2655017                    Brazil\n",
            "2      IN  2020-08-16  2589682   49980    1862258                     India\n",
            "3      RU  2020-08-16   920719   15653     731444        Russian Federation\n",
            "4      ZA  2020-08-16   587345   11839     472377              South Africa\n"
          ],
          "name": "stdout"
        }
      ]
    },
    {
      "cell_type": "markdown",
      "metadata": {
        "id": "ub3EgneRN8d9"
      },
      "source": [
        "Menghitung Fatality Ratio"
      ]
    },
    {
      "cell_type": "code",
      "metadata": {
        "id": "0OuX0DjXN6IQ"
      },
      "source": [
        "df_covid_denormalized['fatality_ratio'] = df_covid_denormalized['deaths']/ df_covid_denormalized['cases']"
      ],
      "execution_count": 9,
      "outputs": []
    },
    {
      "cell_type": "markdown",
      "metadata": {
        "id": "FOyoFgQFN_Ak"
      },
      "source": [
        "Negara-negara dengan Fatality Ratio Tertinggi"
      ]
    },
    {
      "cell_type": "code",
      "metadata": {
        "id": "CZsW7e5dN-sM"
      },
      "source": [
        "df_top_20_fatality_rate = df_covid_denormalized.sort_values(by='fatality_ratio', ascending=False).head(20)"
      ],
      "execution_count": 10,
      "outputs": []
    },
    {
      "cell_type": "markdown",
      "metadata": {
        "id": "J2G17QhVOKR1"
      },
      "source": [
        "Import Library Visualisasi"
      ]
    },
    {
      "cell_type": "code",
      "metadata": {
        "id": "EqTQJ9SlONgU"
      },
      "source": [
        "import matplotlib.pyplot as plt"
      ],
      "execution_count": 11,
      "outputs": []
    },
    {
      "cell_type": "markdown",
      "metadata": {
        "id": "aiqQQk2UOQYt"
      },
      "source": [
        "Visualisasi Negara dengan Fatality Ratio Tertinggi"
      ]
    },
    {
      "cell_type": "code",
      "metadata": {
        "colab": {
          "base_uri": "https://localhost:8080/",
          "height": 510
        },
        "id": "UCatJhQgOU7B",
        "outputId": "e911a8b7-873f-4d76-8699-40901ad22ba9"
      },
      "source": [
        "plt.figure(figsize=(20, 8))\r\n",
        "x = df_top_20_fatality_rate['name']\r\n",
        "y = df_top_20_fatality_rate['fatality_ratio']\r\n",
        "plt.bar(x,y)\r\n",
        "plt.xlabel('Country Name')\r\n",
        "plt.ylabel('Fatality Rate')\r\n",
        "plt.title('Top 20 Highest Fatality Rate Countries')\r\n",
        "plt.xticks(rotation=90)\r\n",
        "plt.tight_layout()\r\n",
        "plt.show()"
      ],
      "execution_count": 12,
      "outputs": [
        {
          "output_type": "display_data",
          "data": {
            "image/png": "[encoded data removed]",
            "text/plain": [
              "<Figure size 1440x576 with 1 Axes>"
            ]
          },
          "metadata": {
            "tags": [],
            "needs_background": "light"
          }
        }
      ]
    },
    {
      "cell_type": "markdown",
      "metadata": {
        "id": "8i3w6mm2OjmO"
      },
      "source": [
        "Menggabungkan Dataframe"
      ]
    },
    {
      "cell_type": "code",
      "metadata": {
        "colab": {
          "base_uri": "https://localhost:8080/"
        },
        "id": "nCr4CI8mOdi5",
        "outputId": "de32c9fe-6875-4de9-eb31-97bc637cbc3a"
      },
      "source": [
        "countries = ['ID','MY','SG','TH','VN']\r\n",
        "i = 0\r\n",
        "for country in countries: \r\n",
        "  covid_timeline_url= 'https://covid19-api.org/api/timeline/' + country\r\n",
        "df_covid_timeline = pd.io.json.json_normalize(get_json(covid_timeline_url))\r\n",
        "df_covid_timeline['last_update'] = pd.to_datetime(df_covid_timeline['last_update'], format='%Y-%m-%dT%H:%M:%S')\r\n",
        "df_covid_timeline['last_update'] = df_covid_timeline['last_update'].apply(lambda x: x.date())\r\n",
        "if i==0:\r\n",
        "  df_covid_timeline_merged = df_covid_timeline\r\n",
        "else:\r\n",
        "  df_covid_timeline_merged = df_covid_timeline.append(df_covid_timeline_merged, ignore_index=True)\r\n",
        "i=i+1\r\n",
        "\r\n",
        "print(df_covid_timeline_merged.head())"
      ],
      "execution_count": 19,
      "outputs": [
        {
          "output_type": "stream",
          "text": [
            "  country last_update  cases  deaths  recovered\n",
            "0      VN  2021-02-04   1948      35       1461\n",
            "1      VN  2021-02-03   1911      35       1461\n",
            "2      VN  2021-02-02   1882      35       1460\n",
            "3      VN  2021-02-01   1850      35       1460\n",
            "4      VN  2021-01-31   1817      35       1457\n"
          ],
          "name": "stdout"
        },
        {
          "output_type": "stream",
          "text": [
            "/usr/local/lib/python3.6/dist-packages/ipykernel_launcher.py:5: FutureWarning: pandas.io.json.json_normalize is deprecated, use pandas.json_normalize instead\n",
            "  \"\"\"\n"
          ],
          "name": "stderr"
        }
      ]
    },
    {
      "cell_type": "markdown",
      "metadata": {
        "id": "hg2Q3ESKPQUj"
      },
      "source": [
        "Merge Data Covid19 Dengan Data Country"
      ]
    },
    {
      "cell_type": "code",
      "metadata": {
        "id": "TIy-u_-NPPuC"
      },
      "source": [
        "df_covid_timeline_denormalized = pd.merge(df_covid_timeline_merged, df_countries, on='country')"
      ],
      "execution_count": 20,
      "outputs": []
    },
    {
      "cell_type": "markdown",
      "metadata": {
        "id": "8HC0KiDNPYzv"
      },
      "source": [
        "Kasus Covid-19 di ASEAN pada Bulan Maret 2020"
      ]
    },
    {
      "cell_type": "code",
      "metadata": {
        "id": "q2DyhV6vPZBl"
      },
      "source": [
        "import datetime\r\n",
        "df_covid_timeline_denormalized = df_covid_timeline_denormalized[(df_covid_timeline_denormalized['last_update'] >= datetime.date(2020, 3, 1))]"
      ],
      "execution_count": 21,
      "outputs": []
    },
    {
      "cell_type": "markdown",
      "metadata": {
        "id": "ah04Oey2Plsf"
      },
      "source": [
        "Visualisasi Kasus Covid-19 di ASEAN"
      ]
    },
    {
      "cell_type": "code",
      "metadata": {
        "colab": {
          "base_uri": "https://localhost:8080/",
          "height": 295
        },
        "id": "aXbdiERAPme8",
        "outputId": "4b3f25cd-33a0-41b9-afdc-6645b65a2830"
      },
      "source": [
        "import matplotlib.pyplot as plt\r\n",
        "plt.clf()\r\n",
        "countries = ['ID','MY','SG','TH','VN']\r\n",
        "for country in countries:\r\n",
        "\tcountry_data = df_covid_timeline_denormalized['country']== country\r\n",
        "\tx = df_covid_timeline_denormalized[country_data]['last_update'] \r\n",
        "\ty = df_covid_timeline_denormalized[country_data]['cases'] \r\n",
        "\tplt.plot(x, y, label = country)\r\n",
        "\r\n",
        "plt.legend()\r\n",
        "plt.xlabel('Record Date')\r\n",
        "plt.ylabel('Total Cases')\r\n",
        "plt.title('Asean Covid19 Cases Comparison')\r\n",
        "plt.show()"
      ],
      "execution_count": 22,
      "outputs": [
        {
          "output_type": "display_data",
          "data": {
            "image/png": "[encoded data removed]",
            "text/plain": [
              "<Figure size 432x288 with 1 Axes>"
            ]
          },
          "metadata": {
            "tags": [],
            "needs_background": "light"
          }
        }
      ]
    }
  ]
}